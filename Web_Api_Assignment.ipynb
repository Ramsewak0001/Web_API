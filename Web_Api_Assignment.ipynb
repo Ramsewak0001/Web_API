{
 "cells": [
  {
   "cell_type": "code",
   "execution_count": null,
   "id": "0af893e0-ed55-44b0-85e7-0339bc2dfeee",
   "metadata": {},
   "outputs": [],
   "source": [
    "Q1. What is an API? Give an example, where an API is used in real life."
   ]
  },
  {
   "cell_type": "code",
   "execution_count": null,
   "id": "140439b6-8c18-406c-892e-e6669e6766ff",
   "metadata": {},
   "outputs": [],
   "source": [
    "API stands for Application Programming Interface, which is a software intermediary that allows two applications \n",
    "to talk to each other.\n",
    "for example:\n",
    "    1. Google Map API\n",
    "    2. Google pay Api"
   ]
  },
  {
   "cell_type": "code",
   "execution_count": null,
   "id": "f3e078ce-b5fa-42c8-8b89-b9d98ae3cb00",
   "metadata": {},
   "outputs": [],
   "source": [
    "-----------------------------------------------------------------------------------------------------------------------------"
   ]
  },
  {
   "cell_type": "code",
   "execution_count": null,
   "id": "441b601d-b3c6-4ef3-8856-81dfd41669e3",
   "metadata": {},
   "outputs": [],
   "source": [
    "Q2. Give advantages and disadvantages of using API."
   ]
  },
  {
   "cell_type": "code",
   "execution_count": null,
   "id": "b144de9c-8b52-401a-9135-7665129e62fe",
   "metadata": {},
   "outputs": [],
   "source": [
    "Advantages of using APIs are:\n",
    "\n",
    "1. Increased Interoperability: \n",
    "                           API solutions enable different software systems to communicate with each other, \n",
    "                           regardless of their programming language or platform. This enhances the interoperability between \n",
    "                           systems, allowing for the exchange of data and functionality.\n",
    "2. Flexibility: \n",
    "             APIs allow developers to access the functionality of a subset of architecture in many different ways, \n",
    "             without ever exposing the endpoints publicly.\n",
    "3. Reusability:\n",
    "             APIs can be reused across multiple applications, which can save time and resources.\n",
    "        \n",
    "Disadvantages of using APIs are:\n",
    "\n",
    "1. Security Risks: \n",
    "                As a single point of entry, an API is a gateway and can become a hacker’s primary target. \n",
    "                Once the API is compromised, all other applications and systems become vulnerable.\n",
    "2. Time-consuming process:\n",
    "                Creating an API is a very time-consuming process.\n",
    "3. Maintenance cost is very high."
   ]
  },
  {
   "cell_type": "code",
   "execution_count": null,
   "id": "85718136-a03c-4589-8bcc-1b9536c45817",
   "metadata": {},
   "outputs": [],
   "source": [
    "-----------------------------------------------------------------------------------------------------------------------------"
   ]
  },
  {
   "cell_type": "code",
   "execution_count": null,
   "id": "72d4f6f6-99fe-4257-8b9f-3b0e31cd37ba",
   "metadata": {},
   "outputs": [],
   "source": [
    "Q3. What is a Web API? Differentiate between API and Web API."
   ]
  },
  {
   "cell_type": "code",
   "execution_count": null,
   "id": "64020972-7e28-47bd-85ba-2c12c15234ab",
   "metadata": {},
   "outputs": [],
   "source": [
    "Web API :\n",
    "       A Web API is an API that is accessed through the web. It uses HTTP requests to GET, PUT, POST and DELETE data\n",
    "       over the internet. Web APIs are used to provide access to web applications or web services.\n",
    "\n",
    "The main difference between APIs and Web APIs is that Web APIs are accessed through the web using HTTP requests \n",
    "while APIs can be accessed through any protocol such as TCP/IP."
   ]
  },
  {
   "cell_type": "code",
   "execution_count": null,
   "id": "263fe34f-ce73-469a-ba85-991cf977dcbb",
   "metadata": {},
   "outputs": [],
   "source": [
    "------------------------------------------------------------------------------------------------------------------------------"
   ]
  },
  {
   "cell_type": "code",
   "execution_count": null,
   "id": "490b6827-d31d-4b17-900c-a86f3dd8becf",
   "metadata": {},
   "outputs": [],
   "source": [
    "Q4. Explain REST and SOAP Architecture. Mention shortcomings of SOAP."
   ]
  },
  {
   "cell_type": "code",
   "execution_count": null,
   "id": "f00950c2-0722-4fe3-9795-6a8e7bd584dd",
   "metadata": {},
   "outputs": [],
   "source": [
    "REST Architecture:     \n",
    "                 REST is an architectural style that emphasizes a client-server model and stateless communication over\n",
    "                 standard protocols like HTTP. It is widely used for building scalable and lightweight web services.\n",
    "            \n",
    "SOAP Architecture:\n",
    "                 SOAP is a protocol-based architectural style that focuses on exchanging structured information between \n",
    "                 networked applications. It relies on XML for message format and uses various transport protocols\n",
    "                 (such as HTTP, SMTP, or TCP) for communication.\n",
    "\n",
    "Shortcomings of SOAP:\n",
    "                   While SOAP has been widely used in enterprise environments, it has some shortcomings compared to REST, \n",
    "                   which have contributed to REST's popularity:\n",
    "\n",
    "1. Complexity: SOAP messages are typically larger and more complex due to their XML format. \n",
    "\n",
    "2. Overhead: SOAP uses a standardized envelope structure and includes additional headers for features like security, transaction management, and reliability.\n",
    "             This overhead can impact performance, especially for simple and lightweight services.\n",
    "\n",
    "3. Tight Coupling: SOAP services often have a strong contract between the client and server, requiring the client to understand\n",
    "                   the complex WSDL (Web Services Description Language) definition. \n",
    "\n",
    "4. Limited Browser Support: SOAP services are not directly consumable by web browsers due to the complexity of the XML format and the lack of native browser support.\n"
   ]
  },
  {
   "cell_type": "code",
   "execution_count": null,
   "id": "1c6fdd7d-df8b-48ba-8bf2-5a52c0364e93",
   "metadata": {},
   "outputs": [],
   "source": [
    "-----------------------------------------------------------------------------------------------------------------------------"
   ]
  },
  {
   "cell_type": "code",
   "execution_count": null,
   "id": "fbf611c5-1bcf-4ecc-a773-288da8437236",
   "metadata": {},
   "outputs": [],
   "source": [
    "Q5. Differentiate between REST and SOAP."
   ]
  },
  {
   "cell_type": "code",
   "execution_count": null,
   "id": "5e73fa6d-ff82-4dc4-a1c5-f9639a630120",
   "metadata": {},
   "outputs": [],
   "source": [
    "REST :\n",
    "     1. It Use HTTP protocol\n",
    "    2. It is simple\n",
    "    3. It is flexible\n",
    "    4. Data supported like JSON.\n",
    "SOAP :\n",
    "    1. It work  on protocols such as SMTP,HTTP,TCP/IP\n",
    "    2. It is complex\n",
    "    3. It is Extensibility\n",
    "    4. Data supported like XML-based"
   ]
  }
 ],
 "metadata": {
  "kernelspec": {
   "display_name": "Python 3 (ipykernel)",
   "language": "python",
   "name": "python3"
  },
  "language_info": {
   "codemirror_mode": {
    "name": "ipython",
    "version": 3
   },
   "file_extension": ".py",
   "mimetype": "text/x-python",
   "name": "python",
   "nbconvert_exporter": "python",
   "pygments_lexer": "ipython3",
   "version": "3.10.8"
  }
 },
 "nbformat": 4,
 "nbformat_minor": 5
}
